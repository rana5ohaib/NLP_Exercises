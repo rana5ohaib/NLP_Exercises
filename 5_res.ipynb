{
 "cells": [
  {
   "cell_type": "code",
   "execution_count": 48,
   "metadata": {},
   "outputs": [
    {
     "name": "stdout",
     "output_type": "stream",
     "text": [
      "12.222.43.51\n"
     ]
    }
   ],
   "source": [
    "import re\n",
    "sentence = \"012.0222.043.051\"\n",
    "pattern=r'[0]'\n",
    "subs=\"\"\n",
    "\n",
    "regex = re.compile(pattern)\n",
    "\n",
    "print(regex.sub(subs,sentence))"
   ]
  },
  {
   "cell_type": "code",
   "execution_count": 46,
   "metadata": {},
   "outputs": [
    {
     "name": "stdout",
     "output_type": "stream",
     "text": [
      "012:0222:04::3:051\n"
     ]
    }
   ],
   "source": [
    "import re\n",
    "sentence = \"012.0222.04, 3.051\"\n",
    "pattern=r'[ ,.]'\n",
    "subs=\":\"\n",
    "\n",
    "regex = re.compile(pattern)\n",
    "\n",
    "print(regex.sub(subs,sentence))"
   ]
  },
  {
   "cell_type": "code",
   "execution_count": 49,
   "metadata": {},
   "outputs": [
    {
     "name": "stdout",
     "output_type": "stream",
     "text": [
      "www.google.com\n"
     ]
    }
   ],
   "source": [
    "import re\n",
    "sentence = \"http://www.google.com\"\n",
    "pattern=r'[h][t][t][p][:][/][/]'\n",
    "subs=\"\"\n",
    "\n",
    "regex = re.compile(pattern)\n",
    "\n",
    "print(regex.sub(subs,sentence))"
   ]
  },
  {
   "cell_type": "code",
   "execution_count": 69,
   "metadata": {},
   "outputs": [
    {
     "name": "stdout",
     "output_type": "stream",
     "text": [
      "['4444', 'dddd', 'eeeee']\n"
     ]
    }
   ],
   "source": [
    "import re\n",
    "sentence = \"1 222 333 4444 a bb ccc dddd eeeee\"\n",
    "pattern=r'[A-Za-z0-9]{3}\\w+'\n",
    "\n",
    "regex = re.compile(pattern)\n",
    "\n",
    "print(regex.findall(sentence))"
   ]
  },
  {
   "cell_type": "code",
   "execution_count": 84,
   "metadata": {},
   "outputs": [
    {
     "name": "stdout",
     "output_type": "stream",
     "text": [
      "Enter a sentence: sohaib\n",
      "t\n",
      "p\n",
      "i\n",
      "b\n",
      "j\n",
      "c\n"
     ]
    }
   ],
   "source": [
    "from six.moves import input\n",
    "sentence = input(\"Enter a sentence: \");\n",
    "\n",
    "for c in sentence:\n",
    "    if c == 'z' :\n",
    "        print('a')\n",
    "        continue\n",
    "    if c == 'Z' :\n",
    "        print('A')\n",
    "        continue\n",
    "    \n",
    "    d = ord(c)\n",
    "    d = d+1\n",
    "    print(chr(d))\n",
    "        \n"
   ]
  }
 ],
 "metadata": {
  "kernelspec": {
   "display_name": "Python 3",
   "language": "python",
   "name": "python3"
  },
  "language_info": {
   "codemirror_mode": {
    "name": "ipython",
    "version": 3
   },
   "file_extension": ".py",
   "mimetype": "text/x-python",
   "name": "python",
   "nbconvert_exporter": "python",
   "pygments_lexer": "ipython3",
   "version": "3.7.1"
  }
 },
 "nbformat": 4,
 "nbformat_minor": 2
}
